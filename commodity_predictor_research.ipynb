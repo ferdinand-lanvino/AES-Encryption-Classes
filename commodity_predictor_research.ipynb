{
  "nbformat": 4,
  "nbformat_minor": 0,
  "metadata": {
    "colab": {
      "name": "commodity-predictor-research.ipynb",
      "provenance": [],
      "collapsed_sections": [],
      "toc_visible": true,
      "authorship_tag": "ABX9TyM4beqjx215+sDsW5D5bKfI",
      "include_colab_link": true
    },
    "kernelspec": {
      "name": "python3",
      "display_name": "Python 3"
    }
  },
  "cells": [
    {
      "cell_type": "markdown",
      "metadata": {
        "id": "view-in-github",
        "colab_type": "text"
      },
      "source": [
        "<a href=\"https://colab.research.google.com/github/ferdinand-lanvino/AES-Encryption-Classes/blob/master/commodity_predictor_research.ipynb\" target=\"_parent\"><img src=\"https://colab.research.google.com/assets/colab-badge.svg\" alt=\"Open In Colab\"/></a>"
      ]
    },
    {
      "cell_type": "markdown",
      "metadata": {
        "id": "ETETP8D9-R1m",
        "colab_type": "text"
      },
      "source": [
        "## **Setup** <a name=\"setup\"></a>"
      ]
    },
    {
      "cell_type": "markdown",
      "metadata": {
        "id": "M4Ra_FEw-v2H",
        "colab_type": "text"
      },
      "source": [
        "Clone the dataset"
      ]
    },
    {
      "cell_type": "code",
      "metadata": {
        "id": "Dw9kbbfv-ysg",
        "colab_type": "code",
        "colab": {
          "base_uri": "https://localhost:8080/",
          "height": 204
        },
        "outputId": "6c37ad33-22b6-4de7-cc81-142b20a8260f"
      },
      "source": [
        "# Clone commodity-predictor repo.\n",
        "!git clone -l -s git://github.com/ferdinand-lanvino/commodity-predictor.git\n",
        "%cd commodity-predictor\n",
        "!ls"
      ],
      "execution_count": 1,
      "outputs": [
        {
          "output_type": "stream",
          "text": [
            "Cloning into 'commodity-predictor'...\n",
            "warning: --local is ignored\n",
            "remote: Enumerating objects: 136, done.\u001b[K\n",
            "remote: Counting objects: 100% (136/136), done.\u001b[K\n",
            "remote: Compressing objects: 100% (113/113), done.\u001b[K\n",
            "remote: Total 136 (delta 52), reused 58 (delta 15), pack-reused 0\u001b[K\n",
            "Receiving objects: 100% (136/136), 1.74 MiB | 1.91 MiB/s, done.\n",
            "Resolving deltas: 100% (52/52), done.\n",
            "/content/commodity-predictor\n",
            "commodity_predictor_research.ipynb  Dataset\n",
            "commodity-price-predictor.ipynb     README.md\n"
          ],
          "name": "stdout"
        }
      ]
    },
    {
      "cell_type": "markdown",
      "metadata": {
        "id": "eAWddSom-5mz",
        "colab_type": "text"
      },
      "source": [
        "Pull the updates if needed"
      ]
    },
    {
      "cell_type": "code",
      "metadata": {
        "id": "URB4AIci-7Y8",
        "colab_type": "code",
        "colab": {
          "base_uri": "https://localhost:8080/",
          "height": 221
        },
        "outputId": "319d4ab4-caf3-472e-966d-2dbdbce4bb67"
      },
      "source": [
        "!git pull"
      ],
      "execution_count": 3,
      "outputs": [
        {
          "output_type": "stream",
          "text": [
            "remote: Enumerating objects: 8, done.\u001b[K\n",
            "remote: Counting objects:  12% (1/8)\u001b[K\rremote: Counting objects:  25% (2/8)\u001b[K\rremote: Counting objects:  37% (3/8)\u001b[K\rremote: Counting objects:  50% (4/8)\u001b[K\rremote: Counting objects:  62% (5/8)\u001b[K\rremote: Counting objects:  75% (6/8)\u001b[K\rremote: Counting objects:  87% (7/8)\u001b[K\rremote: Counting objects: 100% (8/8)\u001b[K\rremote: Counting objects: 100% (8/8), done.\u001b[K\n",
            "remote: Compressing objects: 100% (4/4), done.\u001b[K\n",
            "remote: Total 5 (delta 1), reused 5 (delta 1), pack-reused 0\u001b[K\n",
            "Unpacking objects: 100% (5/5), done.\n",
            "From git://github.com/ferdinand-lanvino/commodity-predictor\n",
            "   9708b4b..b2fbcf4  master     -> origin/master\n",
            "Updating 9708b4b..b2fbcf4\n",
            "Fast-forward\n",
            " Dataset/Converted/commodity.csv | 29333 \u001b[32m++++++++++++++++++++++++++++++++++++++\u001b[m\n",
            " 1 file changed, 29333 insertions(+)\n",
            " create mode 100644 Dataset/Converted/commodity.csv\n"
          ],
          "name": "stdout"
        }
      ]
    },
    {
      "cell_type": "markdown",
      "metadata": {
        "id": "I1tf3R5U--Ip",
        "colab_type": "text"
      },
      "source": [
        "Import Dependency"
      ]
    },
    {
      "cell_type": "code",
      "metadata": {
        "id": "zFLxU-8H_E1V",
        "colab_type": "code",
        "colab": {
          "base_uri": "https://localhost:8080/",
          "height": 71
        },
        "outputId": "3a518a8f-7daa-4bc6-e5b7-1c7dbe2acbdd"
      },
      "source": [
        "#basic packages\n",
        "import numpy as np # linear algebra\n",
        "import pandas as pd # data processing, CSV file I/O\n",
        "import datetime # manipulating date formats\n",
        "\n",
        "#visualization\n",
        "import matplotlib.pylab as plt # basic plotting\n",
        "import seaborn as sns # for prettier plots\n",
        "\n",
        "#statistic\n",
        "from statsmodels.tsa.stattools import adfuller\n",
        "from statsmodels.tsa.stattools import acf, pacf\n",
        "from statsmodels.tsa.seasonal import seasonal_decompose\n",
        "from statsmodels.tsa.arima_model import ARIMA\n",
        "from matplotlib.pylab import rcParams\n",
        "rcParams['figure.figsize'] = 10, 6"
      ],
      "execution_count": 2,
      "outputs": [
        {
          "output_type": "stream",
          "text": [
            "/usr/local/lib/python3.6/dist-packages/statsmodels/tools/_testing.py:19: FutureWarning: pandas.util.testing is deprecated. Use the functions in the public API at pandas.testing instead.\n",
            "  import pandas.util.testing as tm\n"
          ],
          "name": "stderr"
        }
      ]
    },
    {
      "cell_type": "markdown",
      "metadata": {
        "id": "EA5X5Awc90HT",
        "colab_type": "text"
      },
      "source": [
        "## **Exploratory Data Analysis** <a name=\"exploratory-data-analysis\"></a>"
      ]
    },
    {
      "cell_type": "markdown",
      "metadata": {
        "id": "MHAZZA-k-qNj",
        "colab_type": "text"
      },
      "source": [
        "Import combined dataset located in Dataset/Converted/commodity.csv"
      ]
    },
    {
      "cell_type": "code",
      "metadata": {
        "id": "bO2e7y5W9K60",
        "colab_type": "code",
        "colab": {
          "base_uri": "https://localhost:8080/",
          "height": 850
        },
        "outputId": "efc515c8-0198-4cc9-e484-35f299620d79"
      },
      "source": [
        "#Importing dataset \n",
        "dataset = pd.read_csv('Dataset/Converted/commodity.csv')\n",
        "dataset['tanggal'] = pd.to_datetime(dataset['tanggal'],format='%d/%m/%Y')\n",
        "print(dataset.info())\n",
        "print(dataset)\n",
        "#Get bawang merah dataset\n",
        "bawang_merah = dataset[dataset.komoditas=='Bawang Merah']\n",
        "bawang_merah = bawang_merah[['tanggal','harga']].set_index(['tanggal'])\n",
        "#bawang_merah = bawang_merah.fillna(0)\n",
        "bawang_merah.index = pd.DatetimeIndex(bawang_merah.index)\n",
        "print(bawang_merah.info())\n",
        "#imputation\n",
        "idx = pd.date_range('25/07/2016', '29-05-2020')\n",
        "bawang_merah.index = pd.DatetimeIndex(bawang_merah.index)\n",
        "reindexedBM = bawang_merah.reindex(idx, fill_value=np.nan)\n",
        "print(bawang_merah)\n"
      ],
      "execution_count": 11,
      "outputs": [
        {
          "output_type": "stream",
          "text": [
            "<class 'pandas.core.frame.DataFrame'>\n",
            "RangeIndex: 29332 entries, 0 to 29331\n",
            "Data columns (total 3 columns):\n",
            " #   Column     Non-Null Count  Dtype         \n",
            "---  ------     --------------  -----         \n",
            " 0   komoditas  29332 non-null  object        \n",
            " 1   tanggal    29332 non-null  datetime64[ns]\n",
            " 2   harga      29242 non-null  float64       \n",
            "dtypes: datetime64[ns](1), float64(1), object(1)\n",
            "memory usage: 687.6+ KB\n",
            "None\n",
            "              komoditas    tanggal    harga\n",
            "0                 Beras 2016-07-25  10900.0\n",
            "1                 Beras 2016-07-26  10950.0\n",
            "2                 Beras 2016-07-27  10950.0\n",
            "3                 Beras 2016-07-28  10950.0\n",
            "4                 Beras 2016-07-29  10950.0\n",
            "...                 ...        ...      ...\n",
            "29327  Gula Pasir Lokal 2020-05-20  17500.0\n",
            "29328  Gula Pasir Lokal 2020-05-26  17650.0\n",
            "29329  Gula Pasir Lokal 2020-05-27  17650.0\n",
            "29330  Gula Pasir Lokal 2020-05-28  17650.0\n",
            "29331  Gula Pasir Lokal 2020-05-29  17650.0\n",
            "\n",
            "[29332 rows x 3 columns]\n",
            "<class 'pandas.core.frame.DataFrame'>\n",
            "DatetimeIndex: 954 entries, 2016-07-25 to 2020-05-29\n",
            "Data columns (total 1 columns):\n",
            " #   Column  Non-Null Count  Dtype  \n",
            "---  ------  --------------  -----  \n",
            " 0   harga   954 non-null    float64\n",
            "dtypes: float64(1)\n",
            "memory usage: 14.9 KB\n",
            "None\n",
            "              harga\n",
            "tanggal            \n",
            "2016-07-25  50000.0\n",
            "2016-07-26  50000.0\n",
            "2016-07-27  49500.0\n",
            "2016-07-28  49500.0\n",
            "2016-07-29  54500.0\n",
            "...             ...\n",
            "2020-05-20  59250.0\n",
            "2020-05-26  57500.0\n",
            "2020-05-27  57500.0\n",
            "2020-05-28  57500.0\n",
            "2020-05-29  57500.0\n",
            "\n",
            "[954 rows x 1 columns]\n"
          ],
          "name": "stdout"
        }
      ]
    }
  ]
}